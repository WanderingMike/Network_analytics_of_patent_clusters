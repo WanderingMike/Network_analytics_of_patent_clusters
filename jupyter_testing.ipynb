{
 "cells": [
  {
   "cell_type": "code",
   "execution_count": null,
   "id": "e069556f",
   "metadata": {},
   "outputs": [],
   "source": [
    "from main import *\n",
    "tensor_patent = load_tensor(\"patent\")"
   ]
  },
  {
   "cell_type": "code",
   "execution_count": null,
   "id": "62bc825a",
   "metadata": {},
   "outputs": [],
   "source": [
    "keywords = job_config.jobs[0]\n",
    "topical_patents = finding_topical_patents(tensors[\"patent\"], keywords)"
   ]
  },
  {
   "cell_type": "code",
   "execution_count": null,
   "id": "2d7a5f9c",
   "metadata": {},
   "outputs": [],
   "source": []
  },
  {
   "cell_type": "code",
   "execution_count": null,
   "id": "5b9fc8ed",
   "metadata": {},
   "outputs": [],
   "source": []
  },
  {
   "cell_type": "code",
   "execution_count": null,
   "id": "c3848d3e",
   "metadata": {},
   "outputs": [],
   "source": []
  },
  {
   "cell_type": "code",
   "execution_count": null,
   "id": "2329d2fd",
   "metadata": {},
   "outputs": [],
   "source": []
  },
  {
   "cell_type": "code",
   "execution_count": null,
   "id": "c313a1ab",
   "metadata": {},
   "outputs": [],
   "source": []
  },
  {
   "cell_type": "code",
   "execution_count": null,
   "id": "95c15254",
   "metadata": {},
   "outputs": [],
   "source": []
  }
 ],
 "metadata": {
  "kernelspec": {
   "display_name": "Python 3 (ipykernel)",
   "language": "python",
   "name": "python3"
  },
  "language_info": {
   "codemirror_mode": {
    "name": "ipython",
    "version": 3
   },
   "file_extension": ".py",
   "mimetype": "text/x-python",
   "name": "python",
   "nbconvert_exporter": "python",
   "pygments_lexer": "ipython3",
   "version": "3.8.5"
  }
 },
 "nbformat": 4,
 "nbformat_minor": 5
}
