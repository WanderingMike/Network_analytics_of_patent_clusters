{
 "cells": [
  {
   "cell_type": "code",
   "execution_count": 27,
   "id": "30afc509",
   "metadata": {},
   "outputs": [],
   "source": [
    "from main import *\n",
    "\n",
    "ffile = open(\"data/clusters.pkl\", \"rb\")\n",
    "cpc_time_series = pickle.load(ffile)\n",
    "\n",
    "ffile2 = open(\"data/tensors.pkl\", \"rb\")\n",
    "tensors = pickle.load(ffile2)"
   ]
  },
  {
   "cell_type": "code",
   "execution_count": 28,
   "id": "b17b84ea",
   "metadata": {},
   "outputs": [
    {
     "name": "stdout",
     "output_type": "stream",
     "text": [
      "{'date': Timestamp('1990-12-11 00:00:00'), 'abstract': ' The present invention relates to a thrust reverser for a turbojet engine that improves the efficiency of the engine in both the forward thrust and reverse thrust operating modes. The invention achieves these goals by providing deflector panels attached to a stationary engine housing structure that are moveable between forward thrust and reverse thrust positions as the thrust reversing doors are moved between their forward thrust and reverse thrust positions. The deflector panels are attached to the housing so as to have a single degree of freedom and are actuated by linkages interconnecting them with the thrust reversing door actuator cylinder. ', 'num_claims': 12}\n",
      "{'date': Timestamp('2019-04-09 00:00:00'), 'abstract': 'A non-transitory computer-readable medium having a computer program readable by a computer of a portable device connectable to an image input device and image output device and including a memory storing external programs activated by the computer program, the computer program causes the portable device to perform: receiving a user operation on a first screen including first objects corresponding to the external programs; determining the designated program when the first object is designated; when the designated program has a first function of executing processing for the input data, instructing the image input device to execute an input operation and performing first post-processing; and when the designated program has the second function of enabling a user to designate the output data, performing pre-processing and controlling the image output device to execute output operation for the output data.', 'num_claims': 20, 'output': 0.0}\n",
      "{'date': Timestamp('1978-05-09 00:00:00'), 'abstract': ' A method for the fractionation of air is described allowing the separation of oxygen, nitrogen and argon by a single fractionation column from the top of which gaseous nitrogen is drawn and to which liquid nitrogen is recycled, whereas from the bottom of the column liquid oxygen is drawn which is then heated and recycled into the same, a gaseous product enriched in argon being drawn from an intermediate zone of the fractionation column. The apparatus for carrying out the method comprises substantially one single rectification column which is connected on its top to a drawing and cooling circuit for gaseous nitrogen and recycling circuit for liquid nitrogen; on its middle zone to the supplying line for compressed, cooled and expanded air to be fractionated; and on its bottom to a drawing and heating circuit for liquid oxygen to be partially recycled to the same bottom zone. ', 'num_claims': 15}\n",
      "{'date': Timestamp('2016-10-18 00:00:00'), 'abstract': 'Apparatus and methods comprise examination of a subject using images of the subject. The images can provide a non-invasive analysis technique and can include a plurality of images of a portion of the subject at different times a temperature stimulus applied to the subject. An image of the portion of the subject can be aligned such that each pixel of the image corresponds to the same point on the subject over a sequence of images of the portion. The sequence of images can be processed after aligning the images such that data is extracted from the images. The extracted data can be used to make decisions regarding the health status of the subject. Additional apparatus, systems, and methods are disclosed.', 'num_claims': 29, 'output': 0.0}\n",
      "{1970: None, 1971: None, 1972: None, 1973: None, 1974: None, 1975: None, 1976: None, 1977: None, 1978: None, 1979: None, 1980: None, 1981: None, 1982: None, 1983: None, 1984: None, 1985: None, 1986: None, 1987: None, 1988: None, 1989: None, 1990: None, 1991: None, 1992: None, 1993: None, 1994: None, 1995: None, 1996: None, 1997: None, 1998: None, 1999: None, 2000: None, 2001: None, 2002: None, 2003: None, 2004: None, 2005: None, 2006: None, 2007: None, 2008: None, 2009: None, 2010: None, 2011: None, 2012: None, 2013: None, 2014: None, 2015: None, 2016: None, 2017: None, 2018: {'emergingness': 0.0, 'patent_count': 2}, 2019: {'emergingness': nan, 'patent_count': 0}, 2020: {'emergingness': 0.0, 'patent_count': 2}, 2021: {'emergingness': 0.0, 'patent_count': 1}, 'patents_final_year': ['11001285']}\n"
     ]
    }
   ],
   "source": [
    "for i in [10, 10000, 1000000, 5000000]:\n",
    "    res = list(tensors[\"patent\"].keys())[i]\n",
    "    print(tensors[\"patent\"][res])\n",
    "res2 = list(cpc_time_series.keys())[10000]\n",
    "print(cpc_time_series[res2])"
   ]
  },
  {
   "cell_type": "code",
   "execution_count": 29,
   "id": "3b51ef4c",
   "metadata": {},
   "outputs": [
    {
     "name": "stdout",
     "output_type": "stream",
     "text": [
      "4. Running job ['cyber', 'honeypot', 'cybersecurity'] (2022-02-08 17:10:49.989572)\n",
      "5. Finding topical patents (2022-02-08 17:10:49.989633)\n"
     ]
    },
    {
     "name": "stderr",
     "output_type": "stream",
     "text": [
      "100%|██████████| 7814196/7814196 [02:50<00:00, 45844.16it/s]\n"
     ]
    }
   ],
   "source": [
    "from main import *\n",
    "keywords = job_config.jobs[0]\n",
    "        \n",
    "print(\"4. Running job {} ({})\".format(keywords, datetime.now()))\n",
    "\n",
    "print(\"5. Finding topical patents ({})\".format(datetime.now()))\n",
    "topical_patents = finding_topical_patents(tensors[\"patent\"], keywords)"
   ]
  },
  {
   "cell_type": "code",
   "execution_count": 30,
   "id": "82ff9b64",
   "metadata": {},
   "outputs": [
    {
     "name": "stdout",
     "output_type": "stream",
     "text": [
      "['10230764', '10079850', '10949534', '10404735', '8583583', '10515328', '10586052', '8516596', '10372915', '10616270', '9241008', '10887346', '9544724', '7917593', '9392013', '9998426', '10778714', '10367839', '9137242', '9350758', '10986129', '10958684', '10523642', '10560467', '9690932', '9503472', '10641585', '10205733', '10708282', '10904283', '10182065', '9616828', '7937765', '9781149', '9954884', '8787928', '10050990', '9712553', '8732296', '10511446', '10897473', '10469518', '9426169', '10397259', '10572659', '10462139', '10502572', '9762605', '10599838', '10554412', '9094449', '10924510', '10990432', '9129108', '10958685', '9942245', '10812504', '9870715', '10367841', '10826931', '10497071', '10986117', '8549642', '10885393', '9596266', '10594729', '9923922', '9245116', '10382474', '8977843', '10587651', '10685115', '9749344', '10205734', '10103890', '10587647', '8374626', '9648029', '9813454', '10979448', '10630713', '10692365', '10791144', '9159246', '10311245', '8667582', '8800037', '10135236', '10812517', '8608644', '10238948', '9363278', '11031135', '10791140', '9210185', '10681074', '10673887', '10491619', '9584537', '10817750', '9171167', '10789373', '7159180', '10911482', '8528092', '10764313', '10243998', '10523695', '9027126', '10075474', '8869133', '9680857', '10686841', '10623437', '10678954', '11019063', '10903871', '9882918', '10320820', '10176320', '10291642', '7904958', '9117076', '10021136', '6947405', '10963910', '9305106', '7856405', '9749343', '9614669', '6981146', '9392003', '9876811', '10625694', '7383578', '10003609', '10346395', '11019038', '9224067', '10432660', '8627060', '10812516', '10171488', '9614872', '10320827', '11037083', '10326776', '10423787', '9521120', '9965133', '10063583', '10878084', '11005860', '7949710', '10728019', '10348757', '8479288', '8150783', '9596256', '10063568', '9367694', '10706746', '10518162', '9817969', '10616253', '8732807', '8701174', '10491624', '10248910', '9178897', '10958672', '10404748', '9092631', '8726393', '8826231', '9537887', '9614863', '11025674', '11012448', '7930256', '9542919', '10050989', '8156541', '10348747', '10805343', '10135855', '8413241', '9558677', '10958670', '9294498', '7694339', '10430588', '10516698', '8752174', '10498763', '10419468', '9501645', '9560075', '9635016', '10027705', '9203859', '10243993', '9602536', '10791136', '9509712', '10372910', '10798065', '8434136', '10944778', '10142365', '9398029', '9990660', '9646588', '9373144', '10419480', '10884044', '9660996', '9552470', '9906538', '10862901', '7756933', '10387657', '10839076', '9298925', '10929529', '10860460', '11023585', '10438155', '10686825', '10462181', '10264004', '9756062', '9591009', '9584541', '10938854', '10581877', '10425438', '8707180', '10695884', '10333974', '8595831', '9954897', '10659490', '10469527', '10003598', '10965758', '10681071', '10348752', '10097581', '10749875', '10262133', '10685293', '9578055', '10043197', '10949784', '10681066', '10623416', '8621637', '9374382', '10264012', '10708304', '9083741', '10116994', '9280911', '10606991', '10474470', '9338175', '10033754', '10116690', '9544047', '10498756', '10728261', '8677484', '10592938', '9008617', '10412117', '9258321', '10992699', '11012414', '8588823', '8601587', '9166981', '10212184', '10944795', '10735456', '9749347', '10887334', '8762188', '10404729', '9641550', '7904959', '10148678', '7559079', '10686807', '9910993', '9729507', '11010469', '10992708', '10764334', '11032319', '10193923', '8640238', '10515564', '10505853', '9135306', '10250619', '10063580', '10418008', '10999653', '11012417', '10440055', '9501647', '8191149', '9300682', '10917428', '8832794', '10897712', '9137241', '10986130', '10127160', '8943594', '10728265', '8914880', '10412100', '10439884', '10498759', '10623436', '10135867', '8099460', '10938842', '10061635', '10956566', '10666792', '10862926', '10484411', '10419474', '10505972', '10932135', '10438001', '10296748', '9838427', '10812510', '10757132', '10903933', '11050778', '10943693', '10645118', '9049226', '10880337', '6263318', '7950060', '10943097', '10990916', '9503420', '10560483', '7676841', '8443446', '7962756', '10742667', '10999316', '10867512', '6676477', '10320619', '10546135', '10542046', '10311360', '10915217', '11038919', '10503899', '10979391', '10454894', '10298608', '10848515', '8856231', '9118702', '10977587', '9253203', '10454963', '10237351', '8826401', '8769649', '10284598', '11038920', '9509716', '8181250', '9032521', '10805317', '9774616', '11032310', '10440119', '9996692', '9497161', '8266701', '10530808', '10298609', '7865732', '8782141', '9544326', '10915641', '9479507', '11012463', '9185124', '10511635', '10986112', '10826939', '9251509', '9894036', '10542013', '10944639', '10454958', '10542015', '10248522', '10546276', '9774626', '10574697', '10859622', '9373267', '10885133', '10218731', '9319414', '10820198', '10270798', '10949543', '11050714', '10826925', '10505953', '10728239', '9840212', '9177139', '9602530', '8776226', '10951651', '9531669', '10812499', '10122751', '10979454', '5590197', '9621569', '10778701', '9635025', '10257226', '9930062', '10341376', '10897483', '10963572', '10162969', '10614401', '8843953', '10812351', '10447734', '10193919', '10708271', '10091220', '10075475', '10887325', '9118714', '10594714', '10313382', '10970188', '11050779', '11036865', '9930061', '9697355', '9178899', '8832808', '10826324', '10681061', '10511621', '9767279', '10171510', '8683589', '8799189', '9661006', '10798125', '10291650', '8286225', '10719622', '10380335', '10129290', '8769267', '10593311', '10277622', '9379912', '10701089', '10986090', '10277629', '9602529', '10896261', '9357397', '10222405', '10938795', '10509373', '11036853', '10021119', '10516680', '10242193', '10972256', '10268976', '10107014', '10601853', '8793790', '10601856', '10339837', '10097577', '9930058', '10635838', '10333898', '9866575', '10862925', '10742658', '9985987', '10037546', '9875360', '8443439', '8893281', '10217071', '10158653', '10609079', '10581894', '9807109', '10931702', '7328187', '10404737', '10614214', '9537884', '10778708', '9319420', '10681079', '9104516', '9485276', '10951662', '10366229', '10154046', '7457780', '9712547', '11005839', '10691795', '10904282', '10148686', '7934258', '10848517', '10178060', '9521160', '10721262', '10979453', '10237297', '6330491', '9699209', '9521163', '9705899', '9350754', '10812519', '10412078', '10853883', '10929539', '10862919', '10476678', '9473526', '10410158', '10235523', '10002374', '10992706', '10339321', '10541954', '10218736', '10986126', '10681068', '10986128', '9794283', '10523609', '7412723', '7149937', '10616265', '10257100', '9923915', '10708291', '10110629', '8515881', '10581897', '10404672', '11003773', '10671957', '9800604', '9253181', '10867034', '10181038', '9824609', '10735466', '9979621', '10791139', '10609061', '11005869', '10902114', '10630726', '10929541', '9306965', '9697352', '9270690', '10924481', '10803182', '10931660', '10262143', '10056005']\n"
     ]
    }
   ],
   "source": [
    "print(topical_patents)"
   ]
  },
  {
   "cell_type": "code",
   "execution_count": 51,
   "id": "d534ae90",
   "metadata": {},
   "outputs": [],
   "source": [
    "patent = search_abstract('10056005', tensors[\"patent\"]['10056005'], [\"cyber security\"])"
   ]
  },
  {
   "cell_type": "code",
   "execution_count": 58,
   "id": "3864dd7d",
   "metadata": {},
   "outputs": [
    {
     "name": "stdout",
     "output_type": "stream",
     "text": [
      "['the', 'present', 'invention', 'discloses', 'a', 'wireless', 'power', 'transfer', 'system', 'having', 'positioning', 'function', 'and', 'a', 'positioning', 'device', 'and', 'a', 'method', 'therefor', 'in', 'the', 'positioning', 'method', 'a', 'power', 'transmission', 'side', 'keeps', 'generating', 'a', 'stable', 'power', 'a', 'power', 'receiving', 'side', 'is', 'moved', 'relatively', 'to', 'the', 'power', 'transmission', 'side', 'and', 'generates', 'a', 'corresponding', 'induced', 'voltage', 'an', 'indication', 'signal', 'related', 'to', 'the', 'induced', 'voltage', 'is', 'generated', 'by', 'detecting', 'the', 'induced', 'voltage', 'and', 'the', 'indication', 'signal', 'provides', 'a', 'suggestion', 'to', 'a', 'user', 'as', 'to', 'how', 'the', 'power', 'receiving', 'side', 'should', 'be', 'moved', 'relatively', 'to', 'the', 'power', 'transmission', 'side', 'to', 'be', 'closer', 'to', 'an', 'optimal', 'power', 'transfer', 'position', 'cyberhello']\n",
      "2\n",
      "cyber\n",
      "No\n"
     ]
    }
   ],
   "source": [
    "value = tensors[\"patent\"]['9899883']\n",
    "abstract = value[\"abstract\"] + \" cyber-hello\"\n",
    "abstract_cleaned = abstract.translate(str.maketrans('','', string.punctuation))\n",
    "abstract_lower = abstract_cleaned.lower()\n",
    "abstract_tokenised = abstract_lower.split(' ')\n",
    "print(abstract_tokenised)\n",
    "\n",
    "for concept in [\"cyber security\"]:\n",
    "        concept_sep = concept.split(' ')\n",
    "        print(len(concept_sep))\n",
    "        first_word = concept_sep[0]\n",
    "        print(first_word)\n",
    "        for i in range(len(abstract_tokenised)):\n",
    "            if abstract_tokenised[i] == first_word:\n",
    "                print(\"here!\")\n",
    "                extracted_token = abstract_tokenised[i:i+len(concept_sep)]\n",
    "                print(extracted_token)\n",
    "                if ' '.join(extracted_token) == concept:\n",
    "                    print(\"OK\")\n",
    "                    \n",
    "print(\"No\")"
   ]
  },
  {
   "cell_type": "code",
   "execution_count": null,
   "id": "a22290f1",
   "metadata": {},
   "outputs": [],
   "source": []
  }
 ],
 "metadata": {
  "kernelspec": {
   "display_name": "Python 3 (ipykernel)",
   "language": "python",
   "name": "python3"
  },
  "language_info": {
   "codemirror_mode": {
    "name": "ipython",
    "version": 3
   },
   "file_extension": ".py",
   "mimetype": "text/x-python",
   "name": "python",
   "nbconvert_exporter": "python",
   "pygments_lexer": "ipython3",
   "version": "3.8.5"
  }
 },
 "nbformat": 4,
 "nbformat_minor": 5
}
